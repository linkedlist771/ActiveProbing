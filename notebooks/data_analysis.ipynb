{
 "cells": [
  {
   "cell_type": "code",
   "execution_count": 1,
   "id": "initial_id",
   "metadata": {
    "collapsed": true,
    "ExecuteTime": {
     "end_time": "2024-07-11T08:00:46.505250300Z",
     "start_time": "2024-07-11T08:00:46.461599400Z"
    }
   },
   "outputs": [],
   "source": [
    "from src.activeprobing.configs.path_config import (\n",
    "    RESOURCES_NMAP_SCAN_RES_DIR_PATH,\n",
    "    RESOURCES_IP_RANGES_DIR_PATH,\n",
    ")\n",
    "aliyun_scan_res_path = RESOURCES_NMAP_SCAN_RES_DIR_PATH / \"aliyun_scan_res.jsonl\"\n",
    "huawei_scan_res_path = RESOURCES_NMAP_SCAN_RES_DIR_PATH / \"huawei_scan_res.jsonl\"\n",
    "amazon_scan_res_path = RESOURCES_NMAP_SCAN_RES_DIR_PATH / \"amazon_scan_res.jsonl\"\n",
    "tencent_cloud_scan_res_path = (\n",
    "    RESOURCES_NMAP_SCAN_RES_DIR_PATH / \"tencent_cloud_scan_res.jsonl\"\n",
    ")\n",
    "\n",
    "aliyun_scan_res_csv_path \\\n",
    "    = RESOURCES_NMAP_SCAN_RES_DIR_PATH / \"aliyun_scan_res.csv\"\n",
    "huawei_scan_res_csv_path = RESOURCES_NMAP_SCAN_RES_DIR_PATH / \"huawei_scan_res.csv\"\n",
    "amazon_scan_res_csv_path = RESOURCES_NMAP_SCAN_RES_DIR_PATH / \"amazon_scan_res.csv\"\n",
    "tencent_cloud_scan_res_csv_path = (\n",
    "    RESOURCES_NMAP_SCAN_RES_DIR_PATH / \"tencent_cloud_scan_res.csv\"\n",
    ")\n"
   ]
  },
  {
   "cell_type": "code",
   "outputs": [],
   "source": [
    "import json"
   ],
   "metadata": {
    "collapsed": false,
    "ExecuteTime": {
     "end_time": "2024-07-11T08:00:46.512332600Z",
     "start_time": "2024-07-11T08:00:46.507809300Z"
    }
   },
   "id": "706ddd235a3bfd92",
   "execution_count": 2
  },
  {
   "cell_type": "code",
   "outputs": [],
   "source": [
    "def load_scan_res(scan_res_path):\n",
    "    with open(scan_res_path, \"r\") as f:\n",
    "        scan_res = [json.loads(line) for line in f]\n",
    "    return scan_res\n"
   ],
   "metadata": {
    "collapsed": false,
    "ExecuteTime": {
     "end_time": "2024-07-11T08:00:46.562286200Z",
     "start_time": "2024-07-11T08:00:46.516332100Z"
    }
   },
   "id": "8ed77b9e1a3f01fa",
   "execution_count": 3
  },
  {
   "cell_type": "code",
   "outputs": [],
   "source": [
    "huawei_scan_res = load_scan_res(huawei_scan_res_path)"
   ],
   "metadata": {
    "collapsed": false,
    "ExecuteTime": {
     "end_time": "2024-07-11T05:25:08.694564100Z",
     "start_time": "2024-07-11T05:25:08.679006800Z"
    }
   },
   "id": "366199e74ec2c2a6",
   "execution_count": 4
  },
  {
   "cell_type": "code",
   "outputs": [
    {
     "name": "stdout",
     "output_type": "stream",
     "text": [
      "ip: 101.44.70.168\n",
      "scan_type: NORMAL\n",
      "timestamp: 2024-07-11T05:21:11.289258\n",
      "stdout: Starting Nmap 7.95 ( https://nmap.org ) at 2024-07-11 05:20 中国标准时间\n",
      "Nmap scan report for ecs-101-44-70-168.compute.hwclouds-dns.com (101.44.70.168)\n",
      "Host is up (0.076s latency).\n",
      "Not shown: 43 filtered tcp ports (no-response)\n",
      "PORT     STATE  SERVICE\n",
      "20/tcp   closed ftp-data\n",
      "21/tcp   closed ftp\n",
      "22/tcp   open   ssh\n",
      "80/tcp   open   http\n",
      "443/tcp  open   https\n",
      "3306/tcp open   mysql\n",
      "\n",
      "Nmap done: 1 IP address (1 host up) scanned in 13.64 seconds\n",
      "\n",
      "stderr: \n",
      "return_code: 0\n"
     ]
    }
   ],
   "source": [
    "# Host seems down\n",
    "for k, v in huawei_scan_res[1].items():\n",
    "    print(f\"{k}: {v}\")"
   ],
   "metadata": {
    "collapsed": false,
    "ExecuteTime": {
     "end_time": "2024-07-11T06:53:17.169110900Z",
     "start_time": "2024-07-11T06:53:17.153108Z"
    }
   },
   "id": "3decb5bde7afdd79",
   "execution_count": 12
  },
  {
   "cell_type": "code",
   "outputs": [
    {
     "data": {
      "text/plain": "['20',\n '21',\n '22',\n '23',\n '25',\n '53',\n '80',\n '110',\n '123',\n '143',\n '161',\n '389',\n '443',\n '445',\n '587',\n '636',\n '989',\n '990',\n '993',\n '995',\n '1433',\n '1521',\n '1830',\n '1883',\n '2049',\n '3306',\n '3389',\n '3690',\n '5353',\n '5432',\n '5433',\n '5672',\n '5900',\n '5901',\n '5902',\n '5903',\n '5904',\n '5905',\n '6379',\n '8000',\n '8080',\n '8443',\n '9000',\n '9200',\n '9418',\n '11211',\n '22222',\n '27017',\n '61613']"
     },
     "execution_count": 8,
     "metadata": {},
     "output_type": "execute_result"
    }
   ],
   "source": [
    "from src.activeprobing.configs.ports_config import NORMAL_SERVICE_PORTS_LIST\n",
    "NORMAL_SERVICE_PORTS_LIST    "
   ],
   "metadata": {
    "collapsed": false,
    "ExecuteTime": {
     "end_time": "2024-07-11T08:01:13.457897900Z",
     "start_time": "2024-07-11T08:01:13.297300600Z"
    }
   },
   "id": "5570dbd5b973e93",
   "execution_count": 8
  },
  {
   "cell_type": "code",
   "outputs": [],
   "source": [
    "import pandas as pd\n",
    "def retrieve_scan_dict_res(item) -> dict:\n",
    "    stdout = item[\"stdout\"]\n",
    "    scan_res_dict = {\"open\": \"unknown\"}\n",
    "    __scan_res_dict = {port: \"unknown\" for port in NORMAL_SERVICE_PORTS_LIST}\n",
    "    scan_res_dict.update(__scan_res_dict)\n",
    "    scan_res_dict_service = {f\"{port}_service\": \"unknown\" for port in NORMAL_SERVICE_PORTS_LIST}\n",
    "    scan_res_dict.update(scan_res_dict_service)\n",
    "    if \"Host seems down\" in stdout:\n",
    "        scan_res_dict[\"open\"] = False\n",
    "    else:\n",
    "        scan_res_dict[\"open\"] = True\n",
    "        \n",
    "        # Parse the stdout to get port states and services\n",
    "        lines = stdout.split('\\n')\n",
    "        for line in lines:\n",
    "            if '/tcp' in line:\n",
    "                parts = line.split()\n",
    "                port = parts[0].split('/')[0]  # This is now a string\n",
    "                state = parts[1]\n",
    "                service = parts[2]\n",
    "                \n",
    "                if port in NORMAL_SERVICE_PORTS_LIST:\n",
    "                    scan_res_dict[port] = state\n",
    "                    scan_res_dict[f\"{port}_service\"] = service\n",
    "    \n",
    "    return scan_res_dict\n",
    "\n",
    "def process_scan_results(scan_res):\n",
    "    results = []\n",
    "    for scan_r in scan_res:\n",
    "        scan_res_dict = retrieve_scan_dict_res(scan_r)\n",
    "        final_res_dict = {\n",
    "            \"ip\": scan_r[\"ip\"],\n",
    "        }\n",
    "        final_res_dict.update(scan_res_dict)\n",
    "        results.append(final_res_dict)\n",
    "    df = pd.DataFrame(results)\n",
    "    return df\n"
   ],
   "metadata": {
    "collapsed": false,
    "ExecuteTime": {
     "end_time": "2024-07-11T08:01:16.706910900Z",
     "start_time": "2024-07-11T08:01:16.661239200Z"
    }
   },
   "id": "f37d4f21d9092c50",
   "execution_count": 9
  },
  {
   "cell_type": "code",
   "outputs": [],
   "source": [
    "huawei_scan_res_df\n",
    "huawei_scan_res_df.to_csv(huawei_scan_res_csv_path, index=False)"
   ],
   "metadata": {
    "collapsed": false,
    "ExecuteTime": {
     "end_time": "2024-07-11T07:05:03.702010800Z",
     "start_time": "2024-07-11T07:05:03.638701800Z"
    }
   },
   "id": "4f012014393c8098",
   "execution_count": 22
  },
  {
   "cell_type": "code",
   "outputs": [],
   "source": [
    "aliyun_scan_res = load_scan_res(aliyun_scan_res_path)\n",
    "aliyun_scan_res_df = process_scan_results(aliyun_scan_res)\n",
    "aliyun_scan_res_df.to_csv(aliyun_scan_res_csv_path, index=False)\n",
    "\n",
    "amazon_scan_res = load_scan_res(amazon_scan_res_path)\n",
    "amazon_scan_res_df = process_scan_results(amazon_scan_res)\n",
    "amazon_scan_res_df.to_csv(amazon_scan_res_csv_path, index=False)\n"
   ],
   "metadata": {
    "collapsed": false,
    "ExecuteTime": {
     "end_time": "2024-07-11T07:17:53.924175200Z",
     "start_time": "2024-07-11T07:17:50.276193200Z"
    }
   },
   "id": "1cc2e061576b9011",
   "execution_count": 23
  },
  {
   "cell_type": "code",
   "outputs": [],
   "source": [
    "\n",
    "tencent_cloud_scan_res = load_scan_res(tencent_cloud_scan_res_path)\n",
    "tencent_cloud_scan_res_df = process_scan_results(tencent_cloud_scan_res)\n",
    "tencent_cloud_scan_res_df.to_csv(tencent_cloud_scan_res_csv_path, index=False)"
   ],
   "metadata": {
    "collapsed": false,
    "ExecuteTime": {
     "end_time": "2024-07-11T08:01:21.049845300Z",
     "start_time": "2024-07-11T08:01:19.373269700Z"
    }
   },
   "id": "5f4622f0821a0568",
   "execution_count": 10
  },
  {
   "cell_type": "code",
   "outputs": [],
   "source": [],
   "metadata": {
    "collapsed": false
   },
   "id": "cfaa9411c6cee8df"
  }
 ],
 "metadata": {
  "kernelspec": {
   "display_name": "Python 3",
   "language": "python",
   "name": "python3"
  },
  "language_info": {
   "codemirror_mode": {
    "name": "ipython",
    "version": 2
   },
   "file_extension": ".py",
   "mimetype": "text/x-python",
   "name": "python",
   "nbconvert_exporter": "python",
   "pygments_lexer": "ipython2",
   "version": "2.7.6"
  }
 },
 "nbformat": 4,
 "nbformat_minor": 5
}
